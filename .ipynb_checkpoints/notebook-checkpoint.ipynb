{
 "cells": [
  {
   "cell_type": "markdown",
   "metadata": {},
   "source": [
    "### Implementation of NeuralNet2"
   ]
  },
  {
   "cell_type": "code",
   "execution_count": 2,
   "metadata": {},
   "outputs": [
    {
     "ename": "ImportError",
     "evalue": "cannot import name 'NeuralNet'",
     "output_type": "error",
     "traceback": [
      "\u001b[0;31m---------------------------------------------------------------------------\u001b[0m",
      "\u001b[0;31mImportError\u001b[0m                               Traceback (most recent call last)",
      "\u001b[0;32m<ipython-input-2-f222b0d97551>\u001b[0m in \u001b[0;36m<module>\u001b[0;34m\u001b[0m\n\u001b[1;32m      1\u001b[0m \u001b[0;32mfrom\u001b[0m \u001b[0mANN\u001b[0m\u001b[0;34m.\u001b[0m\u001b[0mneuralNet\u001b[0m \u001b[0;32mimport\u001b[0m \u001b[0mLayer\u001b[0m\u001b[0;34m\u001b[0m\u001b[0;34m\u001b[0m\u001b[0m\n\u001b[0;32m----> 2\u001b[0;31m \u001b[0;32mfrom\u001b[0m \u001b[0mANN\u001b[0m\u001b[0;34m.\u001b[0m\u001b[0mlayer\u001b[0m \u001b[0;32mimport\u001b[0m \u001b[0mNeuralNet\u001b[0m\u001b[0;34m\u001b[0m\u001b[0;34m\u001b[0m\u001b[0m\n\u001b[0m\u001b[1;32m      3\u001b[0m \u001b[0;32mimport\u001b[0m \u001b[0mnumpy\u001b[0m \u001b[0;32mas\u001b[0m \u001b[0mnp\u001b[0m\u001b[0;34m\u001b[0m\u001b[0;34m\u001b[0m\u001b[0m\n\u001b[1;32m      4\u001b[0m \u001b[0;32mimport\u001b[0m \u001b[0mpandas\u001b[0m \u001b[0;32mas\u001b[0m \u001b[0mpd\u001b[0m\u001b[0;34m\u001b[0m\u001b[0;34m\u001b[0m\u001b[0m\n\u001b[1;32m      5\u001b[0m \u001b[0;32mimport\u001b[0m \u001b[0mos\u001b[0m\u001b[0;34m\u001b[0m\u001b[0;34m\u001b[0m\u001b[0m\n",
      "\u001b[0;31mImportError\u001b[0m: cannot import name 'NeuralNet'"
     ]
    }
   ],
   "source": [
    "from ANN.neuralNet import NeuralNet\n",
    "from ANN.layer import Layer\n",
    "import numpy as np\n",
    "import pandas as pd\n",
    "import os\n",
    "from helpers import MSE"
   ]
  },
  {
   "cell_type": "code",
   "execution_count": null,
   "metadata": {},
   "outputs": [],
   "source": [
    "def read_data(path, filename):\n",
    "    data = pd.read_csv(path + 'Data/' + filename, sep='\\t', header=None)\n",
    "    data.columns = [\"input1\", \"input2\", \"output\"]\n",
    "    return data\n",
    "\n",
    "current_dir = os.getcwd() + '/'\n",
    "data = read_data(current_dir, \"2in_complex.txt\")\n",
    "\n",
    "display(data.head())"
   ]
  },
  {
   "cell_type": "markdown",
   "metadata": {},
   "source": [
    "Activation codes:\n",
    "\n",
    "- 0: Null Activator,\n",
    "- 1: Sigmoid,\n",
    "- 2: Hyperbolic,\n",
    "- 3: Cosine,\n",
    "- 4: Gaussian,\n",
    "- 5: ReLU,\n",
    "\n",
    "**Example**: [1,1,3,4,2] = [Sigmoid, Sigmoid, Cosine, Gaussian, Hyperbolic]"
   ]
  },
  {
   "cell_type": "code",
   "execution_count": null,
   "metadata": {},
   "outputs": [],
   "source": [
    "layer1 = Layer(input_count=2 , node_count=1, activations=[3])\n",
    "layer1.build_layer()"
   ]
  },
  {
   "cell_type": "code",
   "execution_count": null,
   "metadata": {},
   "outputs": [],
   "source": [
    "layers = [layer1]"
   ]
  },
  {
   "cell_type": "code",
   "execution_count": null,
   "metadata": {},
   "outputs": [],
   "source": [
    "results = np.zeros(100)\n",
    "\n",
    "for i, row in data.iterrows():\n",
    "    inputs = np.array([row['input1'], row['input2']])\n",
    "\n",
    "    network = NeuralNet(layers, inputs)\n",
    "    network.fire_net()\n",
    "    \n",
    "    prediction = network.output\n",
    "    output = row['output']\n",
    "    \n",
    "    mse_error = MSE(output, prediction)\n",
    "    \n",
    "    results[i] = prediction "
   ]
  },
  {
   "cell_type": "code",
   "execution_count": null,
   "metadata": {},
   "outputs": [],
   "source": [
    "network.output"
   ]
  },
  {
   "cell_type": "markdown",
   "metadata": {},
   "source": [
    "## Implementing Neural net to vector transformation"
   ]
  },
  {
   "cell_type": "code",
   "execution_count": null,
   "metadata": {},
   "outputs": [],
   "source": [
    "# Create a toy network\n",
    "\n",
    "layer1 = Layer(input_count=2 , node_count=3, activations=[0,1,2])\n",
    "layer1.build_layer()\n",
    "\n",
    "layer2 = Layer(input_count=3 , node_count=1, activations=[2])\n",
    "layer2.build_layer()\n",
    "\n",
    "layers = [layer1, layer2]"
   ]
  },
  {
   "cell_type": "code",
   "execution_count": null,
   "metadata": {},
   "outputs": [],
   "source": [
    "# Check that neural net works\n",
    "my_test_input = np.array([1,3])\n",
    "\n",
    "network = NeuralNet(layers, my_test_input)\n",
    "network.fire_net()"
   ]
  },
  {
   "cell_type": "code",
   "execution_count": null,
   "metadata": {},
   "outputs": [],
   "source": [
    "# Explore the nets shape\n",
    "for i, layer in enumerate(network.layers):\n",
    "    print(\"Layer #{}\".format(i + 1))\n",
    "    print(\"* Weights (row = neuron weights, column = number of neurns in layer):\")\n",
    "    print(layer.weights)\n",
    "    print(\"* Activations: \")\n",
    "    print(layer.activations)\n",
    "    print(\"\\n\")\n"
   ]
  },
  {
   "cell_type": "markdown",
   "metadata": {},
   "source": [
    "### Flatten the layers"
   ]
  },
  {
   "cell_type": "code",
   "execution_count": null,
   "metadata": {},
   "outputs": [],
   "source": [
    "network.flatten_net()"
   ]
  },
  {
   "cell_type": "code",
   "execution_count": null,
   "metadata": {},
   "outputs": [],
   "source": [
    "# Result of neural net as a 1d vector\n",
    "network.net_as_vector"
   ]
  },
  {
   "cell_type": "code",
   "execution_count": null,
   "metadata": {},
   "outputs": [],
   "source": [
    "# The original shape of each layer in the net\n",
    "network.net_shape"
   ]
  },
  {
   "cell_type": "code",
   "execution_count": null,
   "metadata": {},
   "outputs": [],
   "source": []
  }
 ],
 "metadata": {
  "kernelspec": {
   "display_name": "Python 3",
   "language": "python",
   "name": "python3"
  },
  "language_info": {
   "codemirror_mode": {
    "name": "ipython",
    "version": 3
   },
   "file_extension": ".py",
   "mimetype": "text/x-python",
   "name": "python",
   "nbconvert_exporter": "python",
   "pygments_lexer": "ipython3",
   "version": "3.6.8"
  }
 },
 "nbformat": 4,
 "nbformat_minor": 2
}
