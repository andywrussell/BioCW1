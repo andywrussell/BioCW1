{
 "cells": [
  {
   "cell_type": "markdown",
   "metadata": {},
   "source": [
    "### Implementation of NeuralNet2"
   ]
  },
  {
   "cell_type": "code",
   "execution_count": 55,
   "metadata": {},
   "outputs": [],
   "source": [
    "from NeuralNet2 import Layer, NeuralNet\n",
    "import numpy as np\n",
    "import pandas as pd\n",
    "import os"
   ]
  },
  {
   "cell_type": "code",
   "execution_count": 57,
   "metadata": {},
   "outputs": [
    {
     "data": {
      "text/html": [
       "<div>\n",
       "<style scoped>\n",
       "    .dataframe tbody tr th:only-of-type {\n",
       "        vertical-align: middle;\n",
       "    }\n",
       "\n",
       "    .dataframe tbody tr th {\n",
       "        vertical-align: top;\n",
       "    }\n",
       "\n",
       "    .dataframe thead th {\n",
       "        text-align: right;\n",
       "    }\n",
       "</style>\n",
       "<table border=\"1\" class=\"dataframe\">\n",
       "  <thead>\n",
       "    <tr style=\"text-align: right;\">\n",
       "      <th></th>\n",
       "      <th>input1</th>\n",
       "      <th>input2</th>\n",
       "      <th>output</th>\n",
       "    </tr>\n",
       "  </thead>\n",
       "  <tbody>\n",
       "    <tr>\n",
       "      <th>0</th>\n",
       "      <td>0.6771</td>\n",
       "      <td>-0.4831</td>\n",
       "      <td>0.4624</td>\n",
       "    </tr>\n",
       "    <tr>\n",
       "      <th>1</th>\n",
       "      <td>-0.9142</td>\n",
       "      <td>-0.9882</td>\n",
       "      <td>-0.2400</td>\n",
       "    </tr>\n",
       "    <tr>\n",
       "      <th>2</th>\n",
       "      <td>0.1488</td>\n",
       "      <td>0.4878</td>\n",
       "      <td>-0.2242</td>\n",
       "    </tr>\n",
       "    <tr>\n",
       "      <th>3</th>\n",
       "      <td>0.6137</td>\n",
       "      <td>0.2751</td>\n",
       "      <td>-0.5741</td>\n",
       "    </tr>\n",
       "    <tr>\n",
       "      <th>4</th>\n",
       "      <td>-0.4975</td>\n",
       "      <td>-0.7114</td>\n",
       "      <td>0.3295</td>\n",
       "    </tr>\n",
       "  </tbody>\n",
       "</table>\n",
       "</div>"
      ],
      "text/plain": [
       "   input1  input2  output\n",
       "0  0.6771 -0.4831  0.4624\n",
       "1 -0.9142 -0.9882 -0.2400\n",
       "2  0.1488  0.4878 -0.2242\n",
       "3  0.6137  0.2751 -0.5741\n",
       "4 -0.4975 -0.7114  0.3295"
      ]
     },
     "metadata": {},
     "output_type": "display_data"
    }
   ],
   "source": [
    "def read_data(path, filename):\n",
    "    data = pd.read_csv(path + 'Data/' + filename, sep='\\t', header=None)\n",
    "    data.columns = [\"input1\", \"input2\", \"output\"]\n",
    "    return data\n",
    "\n",
    "current_dir = os.getcwd() + '/'\n",
    "data = read_data(current_dir, \"2in_complex.txt\")\n",
    "\n",
    "display(data.head())"
   ]
  },
  {
   "cell_type": "markdown",
   "metadata": {},
   "source": [
    "Activation codes:\n",
    "\n",
    "- 0: Null Activator,\n",
    "- 1: Sigmoid,\n",
    "- 2: Hyperbolic,\n",
    "- 3: Cosine,\n",
    "- 4: Gaussian,\n",
    "- 5: ReLU,\n",
    "\n",
    "**Example**: [1,1,3,4,2] = [Sigmoid, Sigmoid, Cosine, Gaussian, Hyperbolic]"
   ]
  },
  {
   "cell_type": "code",
   "execution_count": 62,
   "metadata": {},
   "outputs": [],
   "source": [
    "layer1 = Layer(input_count=2 , node_count=1, activations=[3])\n",
    "layer1.build_layer()"
   ]
  },
  {
   "cell_type": "code",
   "execution_count": 63,
   "metadata": {},
   "outputs": [],
   "source": [
    "layers = [layer1]"
   ]
  },
  {
   "cell_type": "code",
   "execution_count": 65,
   "metadata": {},
   "outputs": [
    {
     "name": "stdout",
     "output_type": "stream",
     "text": [
      "[0.74851839 0.97122742 0.41908384 0.45518936 0.90465234 0.20474208\n",
      " 0.17384037 0.83494366 0.85680439 0.87674704 0.89444577 0.5722164\n",
      " 0.81316107 0.17692317 0.9464011  0.9106724  0.81227948 0.78280505\n",
      " 0.53614099 0.23829038 0.5165337  0.47025055 0.33197276 0.48573031\n",
      " 0.33079911 0.48735217 0.84568988 0.86669919 0.10928031 0.31070759\n",
      " 0.88980675 0.70248601 0.89233815 0.96847732 0.8925337  0.67394046\n",
      " 0.16254422 0.90836515 0.94199121 0.93839474 0.11132249 0.63562979\n",
      " 0.84019911 0.88404831 0.89022278 0.33678763 0.65941453 0.96354634\n",
      " 0.43564916 0.7871483  0.33741861 0.57551281 0.79280111 0.8754374\n",
      " 0.36144599 0.96342397 0.51172472 0.47321941 0.83270144 0.95592631\n",
      " 0.54681927 0.52153172 0.34067706 0.77280624 0.85557313 0.15581291\n",
      " 0.57618272 0.29046005 0.46076212 0.13241704 0.37418202 0.75417507\n",
      " 0.71505025 0.55291375 0.59934899 0.82851836 0.87742503 0.75837138\n",
      " 0.61185555 0.84684913 0.94056588 0.78827027 0.23255949 0.57175264\n",
      " 0.36055299 0.39935291 0.70779201 0.67659497 0.57028012 0.79180345\n",
      " 0.90593105 0.33540536 0.83082649 0.4766798  0.21115562 0.5924504\n",
      " 0.89484414 0.66864749 0.23459327 0.40644569]\n"
     ]
    }
   ],
   "source": [
    "results = np.zeros(100)\n",
    "\n",
    "for i, row in data.iterrows():\n",
    "    inputs = np.array([row['input1'], row['input2']])\n",
    "\n",
    "    network = NeuralNet(layers, inputs)\n",
    "    network.fire_net()\n",
    "    \n",
    "    results[i] = network.output\n",
    "    \n",
    "print(results)   "
   ]
  },
  {
   "cell_type": "code",
   "execution_count": 6,
   "metadata": {},
   "outputs": [
    {
     "data": {
      "text/plain": [
       "array([0.97294933, 0.96058139])"
      ]
     },
     "execution_count": 6,
     "metadata": {},
     "output_type": "execute_result"
    }
   ],
   "source": [
    "network.output"
   ]
  },
  {
   "cell_type": "code",
   "execution_count": null,
   "metadata": {},
   "outputs": [],
   "source": []
  }
 ],
 "metadata": {
  "kernelspec": {
   "display_name": "Python 3",
   "language": "python",
   "name": "python3"
  },
  "language_info": {
   "codemirror_mode": {
    "name": "ipython",
    "version": 3
   },
   "file_extension": ".py",
   "mimetype": "text/x-python",
   "name": "python",
   "nbconvert_exporter": "python",
   "pygments_lexer": "ipython3",
   "version": "3.6.8"
  }
 },
 "nbformat": 4,
 "nbformat_minor": 2
}
