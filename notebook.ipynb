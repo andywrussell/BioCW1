{
 "cells": [
  {
   "cell_type": "markdown",
   "metadata": {},
   "source": [
    "### Implementation of NeuralNet2"
   ]
  },
  {
   "cell_type": "code",
   "execution_count": 1,
   "metadata": {},
   "outputs": [],
   "source": [
    "from NeuralNet2 import Layer, NeuralNet\n",
    "import numpy as np\n",
    "import pandas as pd\n",
    "import os\n",
    "from helpers import MSE"
   ]
  },
  {
   "cell_type": "code",
   "execution_count": 2,
   "metadata": {},
   "outputs": [
    {
     "data": {
      "text/html": [
       "<div>\n",
       "<style scoped>\n",
       "    .dataframe tbody tr th:only-of-type {\n",
       "        vertical-align: middle;\n",
       "    }\n",
       "\n",
       "    .dataframe tbody tr th {\n",
       "        vertical-align: top;\n",
       "    }\n",
       "\n",
       "    .dataframe thead th {\n",
       "        text-align: right;\n",
       "    }\n",
       "</style>\n",
       "<table border=\"1\" class=\"dataframe\">\n",
       "  <thead>\n",
       "    <tr style=\"text-align: right;\">\n",
       "      <th></th>\n",
       "      <th>input1</th>\n",
       "      <th>input2</th>\n",
       "      <th>output</th>\n",
       "    </tr>\n",
       "  </thead>\n",
       "  <tbody>\n",
       "    <tr>\n",
       "      <th>0</th>\n",
       "      <td>0.6771</td>\n",
       "      <td>-0.4831</td>\n",
       "      <td>0.4624</td>\n",
       "    </tr>\n",
       "    <tr>\n",
       "      <th>1</th>\n",
       "      <td>-0.9142</td>\n",
       "      <td>-0.9882</td>\n",
       "      <td>-0.2400</td>\n",
       "    </tr>\n",
       "    <tr>\n",
       "      <th>2</th>\n",
       "      <td>0.1488</td>\n",
       "      <td>0.4878</td>\n",
       "      <td>-0.2242</td>\n",
       "    </tr>\n",
       "    <tr>\n",
       "      <th>3</th>\n",
       "      <td>0.6137</td>\n",
       "      <td>0.2751</td>\n",
       "      <td>-0.5741</td>\n",
       "    </tr>\n",
       "    <tr>\n",
       "      <th>4</th>\n",
       "      <td>-0.4975</td>\n",
       "      <td>-0.7114</td>\n",
       "      <td>0.3295</td>\n",
       "    </tr>\n",
       "  </tbody>\n",
       "</table>\n",
       "</div>"
      ],
      "text/plain": [
       "   input1  input2  output\n",
       "0  0.6771 -0.4831  0.4624\n",
       "1 -0.9142 -0.9882 -0.2400\n",
       "2  0.1488  0.4878 -0.2242\n",
       "3  0.6137  0.2751 -0.5741\n",
       "4 -0.4975 -0.7114  0.3295"
      ]
     },
     "metadata": {},
     "output_type": "display_data"
    }
   ],
   "source": [
    "def read_data(path, filename):\n",
    "    data = pd.read_csv(path + 'Data/' + filename, sep='\\t', header=None)\n",
    "    data.columns = [\"input1\", \"input2\", \"output\"]\n",
    "    return data\n",
    "\n",
    "current_dir = os.getcwd() + '/'\n",
    "data = read_data(current_dir, \"2in_complex.txt\")\n",
    "\n",
    "display(data.head())"
   ]
  },
  {
   "cell_type": "markdown",
   "metadata": {},
   "source": [
    "Activation codes:\n",
    "\n",
    "- 0: Null Activator,\n",
    "- 1: Sigmoid,\n",
    "- 2: Hyperbolic,\n",
    "- 3: Cosine,\n",
    "- 4: Gaussian,\n",
    "- 5: ReLU,\n",
    "\n",
    "**Example**: [1,1,3,4,2] = [Sigmoid, Sigmoid, Cosine, Gaussian, Hyperbolic]"
   ]
  },
  {
   "cell_type": "code",
   "execution_count": 3,
   "metadata": {},
   "outputs": [],
   "source": [
    "layer1 = Layer(input_count=2 , node_count=1, activations=[3])\n",
    "layer1.build_layer()"
   ]
  },
  {
   "cell_type": "code",
   "execution_count": 4,
   "metadata": {},
   "outputs": [],
   "source": [
    "layers = [layer1]"
   ]
  },
  {
   "cell_type": "code",
   "execution_count": 6,
   "metadata": {},
   "outputs": [
    {
     "name": "stdout",
     "output_type": "stream",
     "text": [
      "[0.28493679]\n",
      "[0.33258507]\n",
      "[1.27219634]\n",
      "[1.9958215]\n",
      "[0.14406154]\n",
      "[0.80983006]\n",
      "[0.4882571]\n",
      "[0.31889726]\n",
      "[1.20313806]\n",
      "[0.18567104]\n",
      "[1.25061114]\n",
      "[2.51114231]\n",
      "[0.44938573]\n",
      "[0.63814519]\n",
      "[0.42523299]\n",
      "[0.53365318]\n",
      "[0.05592493]\n",
      "[1.44912598]\n",
      "[2.39592662]\n",
      "[0.98038733]\n",
      "[2.35504755]\n",
      "[2.82024027]\n",
      "[1.93179098]\n",
      "[2.04993926]\n",
      "[1.27199016]\n",
      "[2.04366226]\n",
      "[1.36443148]\n",
      "[1.53081106]\n",
      "[0.13184299]\n",
      "[1.11506274]\n",
      "[1.23724222]\n",
      "[1.48936434]\n",
      "[0.1556504]\n",
      "[0.37287832]\n",
      "[1.21784839]\n",
      "[0.44325809]\n",
      "[0.59855304]\n",
      "[0.33308508]\n",
      "[0.53115211]\n",
      "[0.63837573]\n",
      "[0.31524189]\n",
      "[1.40880012]\n",
      "[0.75390501]\n",
      "[0.54050431]\n",
      "[0.5179943]\n",
      "[1.24741123]\n",
      "[1.77687774]\n",
      "[0.42597378]\n",
      "[1.63662217]\n",
      "[0.0698612]\n",
      "[2.30608186]\n",
      "[1.63520864]\n",
      "[1.18499878]\n",
      "[1.33354213]\n",
      "[1.36317512]\n",
      "[0.41629344]\n",
      "[2.17518223]\n",
      "[2.6486315]\n",
      "[0.62770455]\n",
      "[0.52430662]\n",
      "[2.0860824]\n",
      "[1.30925728]\n",
      "[2.44377434]\n",
      "[0.64408105]\n",
      "[0.30066138]\n",
      "[0.59824149]\n",
      "[1.43595632]\n",
      "[1.31934646]\n",
      "[1.33209889]\n",
      "[0.32270899]\n",
      "[1.3518434]\n",
      "[1.44364232]\n",
      "[1.43482904]\n",
      "[1.76943282]\n",
      "[1.25116691]\n",
      "[1.17578498]\n",
      "[1.13845936]\n",
      "[0.00020134]\n",
      "[1.98458954]\n",
      "[1.43819811]\n",
      "[0.3932497]\n",
      "[1.1344998]\n",
      "[0.79651398]\n",
      "[0.88444054]\n",
      "[1.92407551]\n",
      "[2.92316778]\n",
      "[1.13691665]\n",
      "[0.3855016]\n",
      "[1.04457821]\n",
      "[0.0041054]\n",
      "[0.64933702]\n",
      "[1.29009726]\n",
      "[0.58391773]\n",
      "[2.1084987]\n",
      "[0.82388118]\n",
      "[1.51659948]\n",
      "[1.25189584]\n",
      "[1.49303033]\n",
      "[0.8828423]\n",
      "[1.4701878]\n"
     ]
    }
   ],
   "source": [
    "results = np.zeros(100)\n",
    "\n",
    "for i, row in data.iterrows():\n",
    "    inputs = np.array([row['input1'], row['input2']])\n",
    "\n",
    "    network = NeuralNet(layers, inputs)\n",
    "    network.fire_net()\n",
    "    \n",
    "    prediction = network.output\n",
    "    output = row['output']\n",
    "    \n",
    "    mse_error = MSE(output, prediction)\n",
    "    \n",
    "    results[i] = prediction "
   ]
  },
  {
   "cell_type": "code",
   "execution_count": 6,
   "metadata": {},
   "outputs": [
    {
     "data": {
      "text/plain": [
       "array([0.97294933, 0.96058139])"
      ]
     },
     "execution_count": 6,
     "metadata": {},
     "output_type": "execute_result"
    }
   ],
   "source": [
    "network.output"
   ]
  },
  {
   "cell_type": "code",
   "execution_count": null,
   "metadata": {},
   "outputs": [],
   "source": []
  }
 ],
 "metadata": {
  "kernelspec": {
   "display_name": "Python 3",
   "language": "python",
   "name": "python3"
  },
  "language_info": {
   "codemirror_mode": {
    "name": "ipython",
    "version": 3
   },
   "file_extension": ".py",
   "mimetype": "text/x-python",
   "name": "python",
   "nbconvert_exporter": "python",
   "pygments_lexer": "ipython3",
   "version": "3.6.8"
  }
 },
 "nbformat": 4,
 "nbformat_minor": 2
}
